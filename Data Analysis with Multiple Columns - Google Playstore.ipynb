{
 "cells": [
  {
   "cell_type": "code",
   "execution_count": 59,
   "id": "80ef9d0c",
   "metadata": {},
   "outputs": [],
   "source": [
    "import numpy as np\n",
    "import pandas as pd\n",
    "import seaborn as sns\n",
    "from sklearn.impute import SimpleImputer"
   ]
  },
  {
   "cell_type": "code",
   "execution_count": 60,
   "id": "875cd668",
   "metadata": {
    "scrolled": true
   },
   "outputs": [
    {
     "name": "stdout",
     "output_type": "stream",
     "text": [
      "<class 'pandas.core.frame.DataFrame'>\n",
      "RangeIndex: 10841 entries, 0 to 10840\n",
      "Data columns (total 13 columns):\n",
      " #   Column          Non-Null Count  Dtype  \n",
      "---  ------          --------------  -----  \n",
      " 0   App             10841 non-null  object \n",
      " 1   Category        10841 non-null  object \n",
      " 2   Rating          10841 non-null  float64\n",
      " 3   Reviews         10841 non-null  object \n",
      " 4   Size            10841 non-null  object \n",
      " 5   Installs        10841 non-null  object \n",
      " 6   Type            10840 non-null  object \n",
      " 7   Price           10841 non-null  object \n",
      " 8   Content Rating  10840 non-null  object \n",
      " 9   Genres          10841 non-null  object \n",
      " 10  Last Updated    10841 non-null  object \n",
      " 11  Current Ver     10833 non-null  object \n",
      " 12  Android Ver     10838 non-null  object \n",
      "dtypes: float64(1), object(12)\n",
      "memory usage: 1.1+ MB\n"
     ]
    }
   ],
   "source": [
    "df = pd.read_csv(\"googleplaystore.csv\")\n",
    "\n",
    "imputer = SimpleImputer(missing_values = np.NaN, strategy = \"mean\")\n",
    "df.iloc[:, 2:3] = np.round(imputer.fit_transform(df.iloc[:, 2:3]), 2)\n",
    "df.info()"
   ]
  },
  {
   "cell_type": "markdown",
   "id": "306c7543",
   "metadata": {},
   "source": [
    "## Q1 How many free apps are there in ART_AND_DESIGN"
   ]
  },
  {
   "cell_type": "code",
   "execution_count": 61,
   "id": "81770572",
   "metadata": {},
   "outputs": [
    {
     "data": {
      "text/plain": [
       "62"
      ]
     },
     "execution_count": 61,
     "metadata": {},
     "output_type": "execute_result"
    }
   ],
   "source": [
    "df[(df[\"Category\"] == \"ART_AND_DESIGN\") & (df[\"Type\"] == \"Free\")].shape[0]"
   ]
  },
  {
   "cell_type": "markdown",
   "id": "841f015c",
   "metadata": {},
   "source": [
    "## Q2 How many apps in ART_AND_DESIGN have a rating more than 4.5?"
   ]
  },
  {
   "cell_type": "code",
   "execution_count": 62,
   "id": "8f0801ac",
   "metadata": {},
   "outputs": [
    {
     "data": {
      "text/plain": [
       "26"
      ]
     },
     "execution_count": 62,
     "metadata": {},
     "output_type": "execute_result"
    }
   ],
   "source": [
    "df[(df[\"Category\"] == \"ART_AND_DESIGN\") & (df[\"Rating\"] >= 4.50)].shape[0]"
   ]
  },
  {
   "cell_type": "markdown",
   "id": "02abbc1e",
   "metadata": {},
   "source": [
    "## Q3 How many apps are there in Family with a rating more than 4.5 and Free?"
   ]
  },
  {
   "cell_type": "code",
   "execution_count": 63,
   "id": "c7915eb1",
   "metadata": {},
   "outputs": [
    {
     "data": {
      "text/plain": [
       "477"
      ]
     },
     "execution_count": 63,
     "metadata": {},
     "output_type": "execute_result"
    }
   ],
   "source": [
    "df[(df[\"Category\"] == \"FAMILY\") & (df[\"Rating\"] >= 4.50) & (df[\"Type\"] == \"Free\")].shape[0]"
   ]
  }
 ],
 "metadata": {
  "kernelspec": {
   "display_name": "Python 3 (ipykernel)",
   "language": "python",
   "name": "python3"
  },
  "language_info": {
   "codemirror_mode": {
    "name": "ipython",
    "version": 3
   },
   "file_extension": ".py",
   "mimetype": "text/x-python",
   "name": "python",
   "nbconvert_exporter": "python",
   "pygments_lexer": "ipython3",
   "version": "3.11.5"
  }
 },
 "nbformat": 4,
 "nbformat_minor": 5
}
